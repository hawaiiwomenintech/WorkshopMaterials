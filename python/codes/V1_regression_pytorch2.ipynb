{
 "cells": [
  {
   "cell_type": "code",
   "execution_count": 224,
   "metadata": {},
   "outputs": [],
   "source": [
    "import numpy as np\n",
    "import pandas as pd\n",
    "import torch\n",
    "import matplotlib.pyplot as plt\n",
    "\n",
    "df = pd.read_csv('sat_gpa.csv')\n",
    "\n",
    "sat = df['SAT']\n",
    "gpa = df['GPA']\n",
    "\n",
    "# plt.scatter(sat, gpa,c=\"g\", alpha=0.5, label=\"SAT vs GPA\")\n",
    "# plt.xlabel(\"SAT\")\n",
    "# plt.ylabel(\"GPA\")\n",
    "# plt.legend(loc='upper left')\n",
    "# plt.show()\n"
   ]
  },
  {
   "cell_type": "code",
   "execution_count": 227,
   "metadata": {},
   "outputs": [],
   "source": [
    "# Import packages \n",
    "import torch\n",
    "from torch.autograd import Variable\n",
    "from torch.nn import functional as F\n",
    "\n",
    "# convert data to tensors\n",
    "y_data = torch.tensor(df['SAT'].values.reshape(-1,1))\n",
    "x_data = torch.tensor(df['GPA'].values.reshape(-1,1))"
   ]
  },
  {
   "cell_type": "code",
   "execution_count": 245,
   "metadata": {},
   "outputs": [],
   "source": [
    "losses = []\n",
    "for epoch in range(30):\n",
    "    model.train()\n",
    "    optimizer.zero_grad()\n",
    "    # Forward pass\n",
    "    y_pred = model(x_data.float())\n",
    "    # Compute Loss\n",
    "    loss = criterion(y_pred.float(), y_data.float())\n",
    "    losses.append(loss)\n",
    "    # Backward pass\n",
    "    loss.backward()\n",
    "    optimizer.step()\n",
    "    \n",
    "# plt.plot(losses, label=\"Loss (MSE)\")\n",
    "# plt.xlabel(\"iteration\")\n",
    "# plt.ylabel(\"MSE\")\n",
    "# plt.show()\n"
   ]
  },
  {
   "cell_type": "code",
   "execution_count": 233,
   "metadata": {},
   "outputs": [],
   "source": [
    "new_x = torch.Tensor([[3.5]])\n",
    "y_pred = model(new_x)\n",
    "\n",
    "\n",
    "\n",
    "# print(y_pred)\n",
    "# plt.scatter(gpa,sat, c=\"g\", alpha=0.5, label=\"SAT vs GPA\")\n",
    "# plt.scatter(new_x.detach().numpy(),y_pred.detach().numpy(),  c=\"r\")\n",
    "# plt.xlabel(\"SAT\")\n",
    "# plt.ylabel(\"GPA\")\n",
    "# plt.legend(loc='upper left')\n",
    "# plt.show()\n"
   ]
  },
  {
   "cell_type": "code",
   "execution_count": 240,
   "metadata": {},
   "outputs": [
    {
     "name": "stdout",
     "output_type": "stream",
     "text": [
      "weight tensor([[474.2971]])\n",
      "bias tensor([261.1497])\n",
      "tensor([[474.2971]])\n",
      "tensor([261.1497])\n"
     ]
    }
   ],
   "source": [
    "# different ways to print weights (results) \n",
    "\n",
    "for name, param in model.named_parameters():\n",
    "    if param.requires_grad:\n",
    "        print (name, param.data)\n",
    "\n",
    "for param in model.parameters():\n",
    "    print(param.data)\n",
    "\n",
    "\n",
    "# weight \n",
    "w= list(model.parameters())[0].data.numpy()[0]\n",
    "\n",
    "# bias\n",
    "b = list(model.parameters())[1].data.numpy()[0]"
   ]
  },
  {
   "cell_type": "code",
   "execution_count": 244,
   "metadata": {},
   "outputs": [
    {
     "data": {
      "image/png": "[encoded data removed]",
      "text/plain": [
       "<matplotlib.figure.Figure at 0x7f0434b0fd68>"
      ]
     },
     "metadata": {
      "needs_background": "light"
     },
     "output_type": "display_data"
    }
   ],
   "source": [
    "# creating line for y = w*x + b\n",
    "\n",
    "xt = np.arange(2.4, 4, 0.1)\n",
    "yt = [w * x + b for x in xt]\n",
    "\n",
    "\n",
    "# prediction of y given x\n",
    "new_x = torch.Tensor([[3.5]])\n",
    "y_pred = model(new_x)\n",
    "\n",
    "\n",
    "# graph raw data\n",
    "plt.scatter(sat, gpa,c=\"g\", alpha=0.5, label=\"SAT vs GPA\")\n",
    "\n",
    "# graph line\n",
    "plt.plot(yt, xt, c=\"orange\")\n",
    "\n",
    "# graph predicted point\n",
    "plt.scatter(y_pred.detach().numpy(), new_x.detach().numpy(), c=\"r\")\n",
    "\n",
    "\n",
    "plt.xlabel(\"SAT\")\n",
    "plt.ylabel(\"GPA\")\n",
    "plt.legend(loc='upper left')\n",
    "\n",
    "plt.show()\n"
   ]
  }
 ],
 "metadata": {
  "kernelspec": {
   "display_name": "hawt_python",
   "language": "python",
   "name": "hawt_python"
  },
  "language_info": {
   "codemirror_mode": {
    "name": "ipython",
    "version": 3
   },
   "file_extension": ".py",
   "mimetype": "text/x-python",
   "name": "python",
   "nbconvert_exporter": "python",
   "pygments_lexer": "ipython3",
   "version": "3.6.9"
  }
 },
 "nbformat": 4,
 "nbformat_minor": 4
}
